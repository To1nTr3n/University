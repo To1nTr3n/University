{
 "cells": [
  {
   "cell_type": "code",
   "execution_count": 1,
   "metadata": {},
   "outputs": [],
   "source": [
    "import pandas as pd\n",
    "import numpy as np\n",
    "import matplotlib.pyplot as plt\n",
    "import seaborn as sns\n",
    "%matplotlib inline\n",
    "from scipy.stats import describe, skew, kurtosis\n",
    "import statsmodels.api as sm"
   ]
  },
  {
   "cell_type": "code",
   "execution_count": 2,
   "metadata": {},
   "outputs": [
    {
     "data": {
      "text/html": [
       "<div>\n",
       "<style scoped>\n",
       "    .dataframe tbody tr th:only-of-type {\n",
       "        vertical-align: middle;\n",
       "    }\n",
       "\n",
       "    .dataframe tbody tr th {\n",
       "        vertical-align: top;\n",
       "    }\n",
       "\n",
       "    .dataframe thead th {\n",
       "        text-align: right;\n",
       "    }\n",
       "</style>\n",
       "<table border=\"1\" class=\"dataframe\">\n",
       "  <thead>\n",
       "    <tr style=\"text-align: right;\">\n",
       "      <th></th>\n",
       "      <th>bwt</th>\n",
       "      <th>smoke</th>\n",
       "    </tr>\n",
       "  </thead>\n",
       "  <tbody>\n",
       "    <tr>\n",
       "      <th>0</th>\n",
       "      <td>120</td>\n",
       "      <td>0</td>\n",
       "    </tr>\n",
       "    <tr>\n",
       "      <th>1</th>\n",
       "      <td>113</td>\n",
       "      <td>0</td>\n",
       "    </tr>\n",
       "    <tr>\n",
       "      <th>2</th>\n",
       "      <td>128</td>\n",
       "      <td>1</td>\n",
       "    </tr>\n",
       "    <tr>\n",
       "      <th>3</th>\n",
       "      <td>123</td>\n",
       "      <td>0</td>\n",
       "    </tr>\n",
       "    <tr>\n",
       "      <th>4</th>\n",
       "      <td>108</td>\n",
       "      <td>1</td>\n",
       "    </tr>\n",
       "  </tbody>\n",
       "</table>\n",
       "</div>"
      ],
      "text/plain": [
       "   bwt  smoke\n",
       "0  120      0\n",
       "1  113      0\n",
       "2  128      1\n",
       "3  123      0\n",
       "4  108      1"
      ]
     },
     "execution_count": 2,
     "metadata": {},
     "output_type": "execute_result"
    }
   ],
   "source": [
    "df = pd.read_csv('babies.txt',sep='\\s+')\n",
    "df.head()"
   ]
  },
  {
   "cell_type": "code",
   "execution_count": 66,
   "metadata": {},
   "outputs": [],
   "source": [
    "df_smoke = df[df['smoke'] == 1]\n",
    "df_nosmoke = df[df['smoke'] == 0]"
   ]
  },
  {
   "cell_type": "markdown",
   "metadata": {},
   "source": [
    "### 1) Tính các đại lượng thống kê mô tả từ đó rút ra nhận xét về từng tập dữ liệu \n",
    "\n",
    "(cân nặng của trẻ trong trường hợp bà mẹ hút thuốc và cân nặng của trẻ trong trường hợp bà mẹ không hút thuốc).\n",
    "\n",
    "Cụ thể, ta sẽ phân tích sự khác biệt giữa hai tập dữ liệu: cân nặng của trẻ trong trường hợp bà mẹ hút thuốc và cân nặng của trẻ trong trường hợp bà mẹ không hút thuốc dựa vào các đại lượng thống kê mô tả"
   ]
  },
  {
   "cell_type": "code",
   "execution_count": 67,
   "metadata": {},
   "outputs": [
    {
     "data": {
      "text/html": [
       "<div>\n",
       "<style scoped>\n",
       "    .dataframe tbody tr th:only-of-type {\n",
       "        vertical-align: middle;\n",
       "    }\n",
       "\n",
       "    .dataframe tbody tr th {\n",
       "        vertical-align: top;\n",
       "    }\n",
       "\n",
       "    .dataframe thead th {\n",
       "        text-align: right;\n",
       "    }\n",
       "</style>\n",
       "<table border=\"1\" class=\"dataframe\">\n",
       "  <thead>\n",
       "    <tr style=\"text-align: right;\">\n",
       "      <th></th>\n",
       "      <th>TH1: Bà mẹ hút thuốc</th>\n",
       "      <th>TH2: Bà mẹ không hút thuốc</th>\n",
       "    </tr>\n",
       "  </thead>\n",
       "  <tbody>\n",
       "    <tr>\n",
       "      <th>count</th>\n",
       "      <td>484.000000</td>\n",
       "      <td>742.000000</td>\n",
       "    </tr>\n",
       "    <tr>\n",
       "      <th>mean</th>\n",
       "      <td>114.109504</td>\n",
       "      <td>123.047170</td>\n",
       "    </tr>\n",
       "    <tr>\n",
       "      <th>std</th>\n",
       "      <td>18.098946</td>\n",
       "      <td>17.398689</td>\n",
       "    </tr>\n",
       "    <tr>\n",
       "      <th>min</th>\n",
       "      <td>58.000000</td>\n",
       "      <td>55.000000</td>\n",
       "    </tr>\n",
       "    <tr>\n",
       "      <th>25%</th>\n",
       "      <td>102.000000</td>\n",
       "      <td>113.000000</td>\n",
       "    </tr>\n",
       "    <tr>\n",
       "      <th>50%</th>\n",
       "      <td>115.000000</td>\n",
       "      <td>123.000000</td>\n",
       "    </tr>\n",
       "    <tr>\n",
       "      <th>75%</th>\n",
       "      <td>126.000000</td>\n",
       "      <td>134.000000</td>\n",
       "    </tr>\n",
       "    <tr>\n",
       "      <th>max</th>\n",
       "      <td>163.000000</td>\n",
       "      <td>176.000000</td>\n",
       "    </tr>\n",
       "  </tbody>\n",
       "</table>\n",
       "</div>"
      ],
      "text/plain": [
       "       TH1: Bà mẹ hút thuốc  TH2: Bà mẹ không hút thuốc\n",
       "count            484.000000                  742.000000\n",
       "mean             114.109504                  123.047170\n",
       "std               18.098946                   17.398689\n",
       "min               58.000000                   55.000000\n",
       "25%              102.000000                  113.000000\n",
       "50%              115.000000                  123.000000\n",
       "75%              126.000000                  134.000000\n",
       "max              163.000000                  176.000000"
      ]
     },
     "execution_count": 67,
     "metadata": {},
     "output_type": "execute_result"
    }
   ],
   "source": [
    "df_1 = pd.concat([df_smoke.bwt.describe(), df_nosmoke.bwt.describe()], axis = 1)\n",
    "df_1.columns = [\"TH1: Bà mẹ hút thuốc\",\"TH2: Bà mẹ không hút thuốc\"]\n",
    "df_1"
   ]
  },
  {
   "cell_type": "code",
   "execution_count": null,
   "metadata": {},
   "outputs": [],
   "source": [
    "df_1b = {\"TH1: Bà mẹ hút thuốc\": df_smoke.bwt.var(),\"TH2: Bà mẹ không hút thuốc\":df_nosmoke.bwt.var()}"
   ]
  },
  {
   "cell_type": "code",
   "execution_count": 80,
   "metadata": {},
   "outputs": [],
   "source": [
    "df_1b = pd.DataFrame([[skew(df_smoke.bwt),skew(df_nosmoke.bwt)],\n",
    "                      [kurtosis(df_smoke.bwt)+3,kurtosis(df_nosmoke.bwt)+3],\n",
    "                      [df_smoke.bwt.var() , df_nosmoke.bwt.var()],\n",
    "                     [df_smoke.bwt.quantile(.75)-df_smoke.bwt.quantile(.25), df_nosmoke.bwt.quantile(.75)-df_nosmoke.bwt.quantile(.25)],\n",
    "                     [df_smoke.bwt.std() , df_nosmoke.bwt.std()],\n",
    "                     [df_smoke.bwt.max() - df_smoke.bwt.min() , df_nosmoke.bwt.max() - df_nosmoke.bwt.min()]],\n",
    "                     columns = [\"TH1: Bà mẹ hút thuốc\",\"TH2: Bà mẹ không hút thuốc\"],\n",
    "                     index = [\"Skewness\", \"Kurtosis\",\"var\",'IQR','sd','range'])"
   ]
  },
  {
   "cell_type": "code",
   "execution_count": 81,
   "metadata": {},
   "outputs": [
    {
     "data": {
      "text/html": [
       "<div>\n",
       "<style scoped>\n",
       "    .dataframe tbody tr th:only-of-type {\n",
       "        vertical-align: middle;\n",
       "    }\n",
       "\n",
       "    .dataframe tbody tr th {\n",
       "        vertical-align: top;\n",
       "    }\n",
       "\n",
       "    .dataframe thead th {\n",
       "        text-align: right;\n",
       "    }\n",
       "</style>\n",
       "<table border=\"1\" class=\"dataframe\">\n",
       "  <thead>\n",
       "    <tr style=\"text-align: right;\">\n",
       "      <th></th>\n",
       "      <th>TH1: Bà mẹ hút thuốc</th>\n",
       "      <th>TH2: Bà mẹ không hút thuốc</th>\n",
       "    </tr>\n",
       "  </thead>\n",
       "  <tbody>\n",
       "    <tr>\n",
       "      <th>Skewness</th>\n",
       "      <td>-0.033595</td>\n",
       "      <td>-0.186984</td>\n",
       "    </tr>\n",
       "    <tr>\n",
       "      <th>Kurtosis</th>\n",
       "      <td>2.988032</td>\n",
       "      <td>4.037060</td>\n",
       "    </tr>\n",
       "    <tr>\n",
       "      <th>var</th>\n",
       "      <td>327.571835</td>\n",
       "      <td>302.714371</td>\n",
       "    </tr>\n",
       "    <tr>\n",
       "      <th>IQR</th>\n",
       "      <td>24.000000</td>\n",
       "      <td>21.000000</td>\n",
       "    </tr>\n",
       "    <tr>\n",
       "      <th>sd</th>\n",
       "      <td>18.098946</td>\n",
       "      <td>17.398689</td>\n",
       "    </tr>\n",
       "    <tr>\n",
       "      <th>range</th>\n",
       "      <td>105.000000</td>\n",
       "      <td>121.000000</td>\n",
       "    </tr>\n",
       "  </tbody>\n",
       "</table>\n",
       "</div>"
      ],
      "text/plain": [
       "          TH1: Bà mẹ hút thuốc  TH2: Bà mẹ không hút thuốc\n",
       "Skewness             -0.033595                   -0.186984\n",
       "Kurtosis              2.988032                    4.037060\n",
       "var                 327.571835                  302.714371\n",
       "IQR                  24.000000                   21.000000\n",
       "sd                   18.098946                   17.398689\n",
       "range               105.000000                  121.000000"
      ]
     },
     "execution_count": 81,
     "metadata": {},
     "output_type": "execute_result"
    }
   ],
   "source": [
    "df_1b"
   ]
  },
  {
   "cell_type": "code",
   "execution_count": 82,
   "metadata": {},
   "outputs": [
    {
     "data": {
      "text/html": [
       "<div>\n",
       "<style scoped>\n",
       "    .dataframe tbody tr th:only-of-type {\n",
       "        vertical-align: middle;\n",
       "    }\n",
       "\n",
       "    .dataframe tbody tr th {\n",
       "        vertical-align: top;\n",
       "    }\n",
       "\n",
       "    .dataframe thead th {\n",
       "        text-align: right;\n",
       "    }\n",
       "</style>\n",
       "<table border=\"1\" class=\"dataframe\">\n",
       "  <thead>\n",
       "    <tr style=\"text-align: right;\">\n",
       "      <th></th>\n",
       "      <th>TH1: Bà mẹ hút thuốc</th>\n",
       "      <th>TH2: Bà mẹ không hút thuốc</th>\n",
       "      <th>Chênh lệch (TH2-TH1)</th>\n",
       "    </tr>\n",
       "  </thead>\n",
       "  <tbody>\n",
       "    <tr>\n",
       "      <th>Skewness</th>\n",
       "      <td>-0.033595</td>\n",
       "      <td>-0.186984</td>\n",
       "      <td>0.153389</td>\n",
       "    </tr>\n",
       "    <tr>\n",
       "      <th>Kurtosis</th>\n",
       "      <td>2.988032</td>\n",
       "      <td>4.037060</td>\n",
       "      <td>-1.049028</td>\n",
       "    </tr>\n",
       "    <tr>\n",
       "      <th>var</th>\n",
       "      <td>327.571835</td>\n",
       "      <td>302.714371</td>\n",
       "      <td>24.857464</td>\n",
       "    </tr>\n",
       "    <tr>\n",
       "      <th>IQR</th>\n",
       "      <td>24.000000</td>\n",
       "      <td>21.000000</td>\n",
       "      <td>3.000000</td>\n",
       "    </tr>\n",
       "    <tr>\n",
       "      <th>sd</th>\n",
       "      <td>18.098946</td>\n",
       "      <td>17.398689</td>\n",
       "      <td>0.700257</td>\n",
       "    </tr>\n",
       "    <tr>\n",
       "      <th>range</th>\n",
       "      <td>105.000000</td>\n",
       "      <td>121.000000</td>\n",
       "      <td>-16.000000</td>\n",
       "    </tr>\n",
       "  </tbody>\n",
       "</table>\n",
       "</div>"
      ],
      "text/plain": [
       "          TH1: Bà mẹ hút thuốc  TH2: Bà mẹ không hút thuốc  \\\n",
       "Skewness             -0.033595                   -0.186984   \n",
       "Kurtosis              2.988032                    4.037060   \n",
       "var                 327.571835                  302.714371   \n",
       "IQR                  24.000000                   21.000000   \n",
       "sd                   18.098946                   17.398689   \n",
       "range               105.000000                  121.000000   \n",
       "\n",
       "          Chênh lệch (TH2-TH1)  \n",
       "Skewness              0.153389  \n",
       "Kurtosis             -1.049028  \n",
       "var                  24.857464  \n",
       "IQR                   3.000000  \n",
       "sd                    0.700257  \n",
       "range               -16.000000  "
      ]
     },
     "execution_count": 82,
     "metadata": {},
     "output_type": "execute_result"
    }
   ],
   "source": [
    "df_1b[\"Chênh lệch (TH2-TH1)\"] = df_1b['TH1: Bà mẹ hút thuốc'] - df_1b['TH2: Bà mẹ không hút thuốc']\n",
    "df_1b"
   ]
  },
  {
   "cell_type": "code",
   "execution_count": 47,
   "metadata": {},
   "outputs": [
    {
     "data": {
      "text/plain": [
       "Text(0, 0.5, 'Cân nặng')"
      ]
     },
     "execution_count": 47,
     "metadata": {},
     "output_type": "execute_result"
    },
    {
     "data": {
      "image/png": "[encoded data removed]",
      "text/plain": [
       "<Figure size 432x288 with 1 Axes>"
      ]
     },
     "metadata": {
      "needs_background": "light"
     },
     "output_type": "display_data"
    }
   ],
   "source": [
    "df_smoke.hist(column = 'bwt',bins = 20)\n",
    "plt.ylabel('Cân nặng')"
   ]
  },
  {
   "cell_type": "code",
   "execution_count": 48,
   "metadata": {},
   "outputs": [
    {
     "data": {
      "text/plain": [
       "Text(0, 0.5, 'Cân nặng')"
      ]
     },
     "execution_count": 48,
     "metadata": {},
     "output_type": "execute_result"
    },
    {
     "data": {
      "image/png": "[encoded data removed]",
      "text/plain": [
       "<Figure size 432x288 with 1 Axes>"
      ]
     },
     "metadata": {
      "needs_background": "light"
     },
     "output_type": "display_data"
    }
   ],
   "source": [
    "df_smoke.boxplot(column = 'bwt')\n",
    "plt.ylabel('Cân nặng')"
   ]
  },
  {
   "cell_type": "code",
   "execution_count": 49,
   "metadata": {},
   "outputs": [
    {
     "data": {
      "text/plain": [
       "Text(0, 0.5, 'Cân nặng')"
      ]
     },
     "execution_count": 49,
     "metadata": {},
     "output_type": "execute_result"
    },
    {
     "data": {
      "image/png": "[encoded data removed]",
      "text/plain": [
       "<Figure size 432x288 with 1 Axes>"
      ]
     },
     "metadata": {
      "needs_background": "light"
     },
     "output_type": "display_data"
    }
   ],
   "source": [
    "df_nosmoke.hist(column = 'bwt',bins = 20)\n",
    "plt.ylabel('Cân nặng')"
   ]
  },
  {
   "cell_type": "code",
   "execution_count": 72,
   "metadata": {},
   "outputs": [
    {
     "data": {
      "text/plain": [
       "Text(0, 0.5, 'Cân nặng')"
      ]
     },
     "execution_count": 72,
     "metadata": {},
     "output_type": "execute_result"
    },
    {
     "data": {
      "image/png": "[encoded data removed]",
      "text/plain": [
       "<Figure size 432x288 with 1 Axes>"
      ]
     },
     "metadata": {
      "needs_background": "light"
     },
     "output_type": "display_data"
    }
   ],
   "source": [
    "df_nosmoke.boxplot(column = 'bwt')\n",
    "plt.ylabel('Cân nặng')"
   ]
  },
  {
   "cell_type": "code",
   "execution_count": 88,
   "metadata": {},
   "outputs": [
    {
     "name": "stderr",
     "output_type": "stream",
     "text": [
      "C:\\Users\\toant\\anaconda3\\lib\\site-packages\\numpy\\core\\_asarray.py:83: VisibleDeprecationWarning: Creating an ndarray from ragged nested sequences (which is a list-or-tuple of lists-or-tuples-or ndarrays with different lengths or shapes) is deprecated. If you meant to do this, you must specify 'dtype=object' when creating the ndarray\n",
      "  return array(a, dtype, copy=False, order=order)\n"
     ]
    },
    {
     "data": {
      "image/png": "[encoded data removed]",
      "text/plain": [
       "<Figure size 432x288 with 1 Axes>"
      ]
     },
     "metadata": {
      "needs_background": "light"
     },
     "output_type": "display_data"
    }
   ],
   "source": [
    "df.boxplot(column = 'bwt',by='smoke');\n",
    "plt.ylabel('Cân nặng');"
   ]
  },
  {
   "cell_type": "code",
   "execution_count": null,
   "metadata": {},
   "outputs": [],
   "source": []
  },
  {
   "cell_type": "code",
   "execution_count": 89,
   "metadata": {},
   "outputs": [
    {
     "data": {
      "image/png": "[encoded data removed]",
      "text/plain": [
       "<Figure size 720x360 with 2 Axes>"
      ]
     },
     "metadata": {
      "needs_background": "light"
     },
     "output_type": "display_data"
    }
   ],
   "source": [
    "fig, (ax1, ax2) = plt.subplots(1, 2, figsize=(10,5))\n",
    "\n",
    "sm.qqplot(df_smoke.bwt, line = '45', fit = True, ax = ax1);\n",
    "sm.qqplot(df_nosmoke.bwt, line = '45', fit = True,ax = ax2);\n",
    "ax1.title.set_text('QQ-plot trong trường hợp bà mẹ có hút thuốc')\n",
    "ax2.title.set_text('QQ-plot trong trường hợp bà mẹ không hút thuốc')"
   ]
  },
  {
   "cell_type": "code",
   "execution_count": null,
   "metadata": {},
   "outputs": [],
   "source": []
  },
  {
   "cell_type": "code",
   "execution_count": 255,
   "metadata": {},
   "outputs": [],
   "source": [
    "\n",
    "def PolyMLPRegression_covid_19(number_of_degree,train_d,valid_d,data_d,case):\n",
    "\n",
    "    poly = PolynomialFeatures(degree=number_of_degree)\n",
    "    poly_train_ml = poly.fit_transform(np.array(train[\"Days Since\"]).reshape(-1,1))\n",
    "    poly_valid_ml = poly.fit_transform(np.array(valid[\"Days Since\"]).reshape(-1,1))\n",
    "    poly_datewise_ml = poly.fit_transform(np.array(datewise_HCM[\"Days Since\"]).reshape(-1,1))\n",
    "\n",
    "    model_scores=[]\n",
    "\n",
    "    #25,13,5\n",
    "    #20,10,5\n",
    "    \n",
    "    print(case)\n",
    "\n",
    "    mlp=MLPRegressor(hidden_layer_sizes=[25,13,5], max_iter=50000, alpha=0.0005, random_state=26)\n",
    "    #mlp=MLPRegressor(hidden_layer_sizes=[100,], max_iter=50000, alpha=0.0005, random_state=26)\n",
    "    mlp.fit(poly_train_ml,np.array(train_d).reshape(-1,1))\n",
    "    prediction_valid_mlp = mlp.predict(poly_valid_ml)\n",
    "    model_scores.append(np.sqrt(mean_squared_error(valid_d,prediction_valid_mlp)))\n",
    "    print(\"RMSE for Poly-MLP: \",model_scores)\n",
    "\n",
    "    eval_reg(valid_d,prediction_valid_mlp)\n",
    "    \n",
    "    prediction_mlp=mlp.predict(poly_datewise_ml)\n",
    "\n",
    "    #model_scores1=[]\n",
    "    #model_scores1.append(np.sqrt(mean_squared_error(valid_d,prediction_mlp[21:25])))\n",
    "    #print(\"RMSE for PR: \", model_scores1) \n",
    "\n",
    "    new_date=[]\n",
    "    new_prediction_mlp=[]\n",
    "\n",
    "    for i in range(1,day):\n",
    "       new_date.append(datewise_HCM.index[-1]+timedelta(days=i))\n",
    "       poly_c=poly.fit_transform(np.array(datewise_HCM[\"Days Since\"].max()+i).reshape(-1,1))\n",
    "       new_prediction_mlp.append(mlp.predict(poly_c)[0]) \n",
    "\n",
    "    forecast_mlp, new_date_time_index =new_forecast(prediction_mlp,new_prediction_mlp,new_date)\n",
    "\n",
    "    #plot_result(data_d,new_date_time_index, forecast_mlp, 'blue', case, 'Poly Multi Layer Perception Prediction')\n",
    "\n",
    "    return (forecast_mlp, new_date_time_index,model_scores)"
   ]
  },
  {
   "cell_type": "code",
   "execution_count": 277,
   "metadata": {},
   "outputs": [
    {
     "name": "stdout",
     "output_type": "stream",
     "text": [
      "Confirmed Cases\n"
     ]
    },
    {
     "name": "stderr",
     "output_type": "stream",
     "text": [
      "C:\\Users\\toant\\anaconda3\\lib\\site-packages\\sklearn\\utils\\validation.py:73: DataConversionWarning: A column-vector y was passed when a 1d array was expected. Please change the shape of y to (n_samples, ), for example using ravel().\n",
      "  return f(**kwargs)\n"
     ]
    },
    {
     "name": "stdout",
     "output_type": "stream",
     "text": [
      "RMSE for Poly-MLP:  [730.1424692501334]\n",
      "Mean Absolute Error:  708.5836021187538\n",
      "R2-Squared: -14.872835385161896\n"
     ]
    },
    {
     "data": {
      "image/png": "[encoded data removed]",
      "text/plain": [
       "<Figure size 921.6x504 with 1 Axes>"
      ]
     },
     "metadata": {},
     "output_type": "display_data"
    },
    {
     "name": "stdout",
     "output_type": "stream",
     "text": [
      "Execution Time 0.46875\n"
     ]
    }
   ],
   "source": [
    "t2 = time.process_time()\n",
    "\n",
    "forecast_polymlp_c, new_date_time_index_c, model_score_polymlp_c = PolyMLPRegression_covid_19(1,train[\"Confirmed\"],valid[\"Confirmed\"],datewise_HCM[\"Confirmed\"],'Confirmed Cases')\n",
    "\n",
    "plt.figure(figsize=(12.8,7))\n",
    "plot_result(datewise_HCM[\"Confirmed\"],new_date_time_index_c, forecast_polymlp_c,'blue','Cases', 'PolyMLP Regression')\n",
    "#plot_result(datewise_HCM[\"Deaths\"],new_date_time_index_d, forecast_polymlp_d,'red','Death Cases', 'PolyMLP Regression')\n",
    "plt.xticks(rotation=60)\n",
    "plt.legend(frameon=True) \n",
    "plt.show()\n",
    "\n",
    "elapsed_time_polymlp = time.process_time() - t2\n",
    "print(\"Execution Time\", elapsed_time_polymlp)"
   ]
  },
  {
   "cell_type": "code",
   "execution_count": null,
   "metadata": {},
   "outputs": [],
   "source": [
    "poly_degree_pr=3\n",
    "svm_degree=5\n",
    "poly_degree_polymlp=3"
   ]
  }
 ],
 "metadata": {
  "kernelspec": {
   "display_name": "Python 3",
   "language": "python",
   "name": "python3"
  },
  "language_info": {
   "codemirror_mode": {
    "name": "ipython",
    "version": 3
   },
   "file_extension": ".py",
   "mimetype": "text/x-python",
   "name": "python",
   "nbconvert_exporter": "python",
   "pygments_lexer": "ipython3",
   "version": "3.8.3"
  }
 },
 "nbformat": 4,
 "nbformat_minor": 4
}
