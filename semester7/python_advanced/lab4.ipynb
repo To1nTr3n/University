{
 "cells": [
  {
   "cell_type": "markdown",
   "metadata": {},
   "source": [
    "### 1. Write a function called find_dups that takes a list of integers as its input\n",
    "argument and returns a set of those integers occurring two or more times in\n",
    "the list\n",
    "### 3. Python’s set objects have a method called pop that removes and returns an\n",
    "arbitrary element from the set. If the set gerbils contains five cuddly little\n",
    "animals, for example, calling gerbils.pop() five times will return those\n",
    "animals one by one, leaving the set empty at the end. Use this to write a\n",
    "function called mating_pairs that takes two equal-sized sets called males and\n",
    "females as input and returns a set of pairs; each pair must be a tuple\n",
    "containing one male and one female. (The elements of males and females\n",
    "may be strings containing gerbil names or gerbil ID numbers—your function\n",
    "must work with both.)\n",
    "### 5. The keys in a dictionary are guaranteed to be unique, but the values are not.\n",
    "Write a function called count_values that takes a single dictionary as an\n",
    "argument and returns the number of distinct values it contains. Given the\n",
    "input {'red': 1, 'green': 1, 'blue': 2}, for example, it should return 2.\n",
    "### 7. Write a function called count_duplicates that takes a dictionary as an\n",
    "argument and returns the number of values that appear two or more times.\n",
    "### 9. Write a function called dict_intersect that takes two dictionaries as\n",
    "arguments and returns a dictionary that contains only the key/value pairs\n",
    "found in both of the original dictionaries.\n",
    "### 11.Write another function called db_consistent that takes a dictionary of\n",
    "dictionaries in the format described in the previous question and returns True\n",
    "if and only if every one of the inner dictionaries has exactly the same keys.\n",
    "(This function would return False for the previous example, since Rosalind\n",
    "Franklin’s entry doesn’t contain the 'author' key.)"
   ]
  },
  {
   "cell_type": "code",
   "execution_count": null,
   "metadata": {},
   "outputs": [],
   "source": [
    "def find_dups(L): ->set\n",
    "    elem_set = set()\n",
    "    dups_set = set()\n",
    "    "
   ]
  },
  {
   "cell_type": "code",
   "execution_count": 12,
   "metadata": {},
   "outputs": [],
   "source": [
    "def find_dups(L):\n",
    "    set_ele = set()\n",
    "    set_duplicate = set()\n",
    "    for i in L:\n",
    "        len_bef = len(set_ele)\n",
    "        set_ele.add(i)\n",
    "        len_aft = len(set_ele)\n",
    "        if len_bef == len_aft:\n",
    "            set_duplicate.add(i)\n",
    "    return set_duplicate"
   ]
  },
  {
   "cell_type": "code",
   "execution_count": 15,
   "metadata": {},
   "outputs": [
    {
     "data": {
      "text/plain": [
       "{1, 2, 4}"
      ]
     },
     "execution_count": 15,
     "metadata": {},
     "output_type": "execute_result"
    }
   ],
   "source": [
    "find_dups([1, 1, 2, 2, 3, 4, 4, 2])"
   ]
  },
  {
   "cell_type": "code",
   "execution_count": 19,
   "metadata": {},
   "outputs": [
    {
     "data": {
      "text/plain": [
       "set()"
      ]
     },
     "execution_count": 19,
     "metadata": {},
     "output_type": "execute_result"
    }
   ],
   "source": [
    "find_dups([1, 2, 3, 4, 5, 6])"
   ]
  },
  {
   "cell_type": "markdown",
   "metadata": {},
   "source": [
    "### 3. Python’s set objects have a method called pop that removes and returns anarbitrary element from the set. \n",
    "If the set gerbils contains five cuddly little animals, for example, calling gerbils.pop() five times will \n",
    "return those animals one by one, leaving the set empty at the end. Use this to write a function called mating_pairs that takes two equal-sized sets called males and females as input and returns a set of pairs; each pair must be a tuple containing one male and one female. (The elements of males and females may be strings containing gerbil names or gerbil ID numbers—your function must work with both.)"
   ]
  },
  {
   "cell_type": "code",
   "execution_count": 147,
   "metadata": {},
   "outputs": [],
   "source": [
    "def gerbil_pairs(males, females):\n",
    "    \"\"\" (set, set) -> set of tuple\n",
    "    Return a set of tuples where each tuple contains a male from males and a\n",
    "    female from females.\n",
    "    \"\"\"\n",
    "    pairs = set()\n",
    "    num_len = len(males)\n",
    "    for i in range(num_len) :\n",
    "        male = males.pop()\n",
    "        female = females.pop()\n",
    "        pairs.add((male,female))\n",
    "    return pairs"
   ]
  },
  {
   "cell_type": "code",
   "execution_count": 148,
   "metadata": {},
   "outputs": [
    {
     "data": {
      "text/plain": [
       "{('A', 'D'), ('B', 'F'), ('C', 'E')}"
      ]
     },
     "execution_count": 148,
     "metadata": {},
     "output_type": "execute_result"
    }
   ],
   "source": [
    "gerbil_pairs({'A', 'B', 'C'}, {'D', 'F', 'E'})"
   ]
  },
  {
   "cell_type": "markdown",
   "metadata": {},
   "source": [
    "### 5. The keys in a dictionary are guaranteed to be unique, but the values are not.¶\n",
    "Write a function called count_values that takes a single dictionary as an argument and returns the number of distinct values it contains. Given the input {'red': 1, 'green': 1, 'blue': 2}, for example, it should return 2."
   ]
  },
  {
   "cell_type": "code",
   "execution_count": 149,
   "metadata": {},
   "outputs": [],
   "source": [
    "def count_values(dic):\n",
    "    return len(set(dic.values())) "
   ]
  },
  {
   "cell_type": "code",
   "execution_count": 150,
   "metadata": {},
   "outputs": [
    {
     "data": {
      "text/plain": [
       "2"
      ]
     },
     "execution_count": 150,
     "metadata": {},
     "output_type": "execute_result"
    }
   ],
   "source": [
    "count_values({'red':1,'green': 1, 'blue':2})"
   ]
  },
  {
   "cell_type": "markdown",
   "metadata": {},
   "source": [
    "### 7. Write a function called count_duplicates that takes a dictionary as an\n",
    "argument and returns the number of values that appear two or more times."
   ]
  },
  {
   "cell_type": "code",
   "execution_count": 206,
   "metadata": {},
   "outputs": [],
   "source": [
    "def count_duplicates1(dic):\n",
    "    \"\"\" (dic) -> int\n",
    "    Return the number of duplicate values in dictionary.\n",
    "    \"\"\" \n",
    "    counts = list(dic.values())\n",
    "    return len([x for x in set(counts) if counts.count(x) > 1])"
   ]
  },
  {
   "cell_type": "code",
   "execution_count": 207,
   "metadata": {},
   "outputs": [
    {
     "data": {
      "text/plain": [
       "2"
      ]
     },
     "execution_count": 207,
     "metadata": {},
     "output_type": "execute_result"
    }
   ],
   "source": [
    "count_duplicates1({'R': 1, 'G': 2, 'B': 2, 'Y': 1, 'P': 3})"
   ]
  },
  {
   "cell_type": "markdown",
   "metadata": {},
   "source": [
    "### 9. Write a function called dict_intersect that takes two dictionaries as¶\n",
    "arguments and returns a dictionary that contains only the key/value pairs found in both of the original dictionaries."
   ]
  },
  {
   "cell_type": "code",
   "execution_count": 208,
   "metadata": {},
   "outputs": [],
   "source": [
    "def dict_intersect(dict1, dict2):\n",
    "    inter = {}\n",
    "    for (key, value) in dict1.items():\n",
    "        if key in dict2 and value == dict2[key]:\n",
    "            inter[key] = value\n",
    "    return inter"
   ]
  },
  {
   "cell_type": "code",
   "execution_count": 210,
   "metadata": {},
   "outputs": [
    {
     "data": {
      "text/plain": [
       "{'a': 1, 'c': 3}"
      ]
     },
     "execution_count": 210,
     "metadata": {},
     "output_type": "execute_result"
    }
   ],
   "source": [
    "dict_intersect({'a': 1, 't': 2, 'c': 3}, {'a': 1, 'd': 2, 'b': 2, 'c':3})"
   ]
  },
  {
   "cell_type": "markdown",
   "metadata": {},
   "source": [
    "### 11.Write another function called db_consistent that takes a dictionary of\n",
    "dictionaries in the format described in the previous question and returns True if and only if every one of the inner dictionaries has exactly the same keys. (This function would return False for the previous example, since Rosalind Franklin’s entry doesn’t contain the 'author' key.)"
   ]
  },
  {
   "cell_type": "code",
   "execution_count": 260,
   "metadata": {},
   "outputs": [],
   "source": [
    "def db_consistent(dict_of_dict):\n",
    "    \n",
    "    keys_list = []\n",
    "    for key in dict_of_dict:\n",
    "        keys = list(dict_of_dict[key].keys())\n",
    "        keys.sort()\n",
    "        keys_list.append(keys)\n",
    "    for i in range(1, len(keys_list)):\n",
    "        if (len(keys_list[0]) != len(keys_list[i])):\n",
    "            return False\n",
    "        for j in range(1, len(keys_list[0])):\n",
    "            if (keys_list[0][j] != keys_list[i][j]):\n",
    "                return False\n",
    "    return True"
   ]
  },
  {
   "cell_type": "code",
   "execution_count": 261,
   "metadata": {},
   "outputs": [
    {
     "data": {
      "text/plain": [
       "(True, True)"
      ]
     },
     "execution_count": 261,
     "metadata": {},
     "output_type": "execute_result"
    }
   ],
   "source": [
    "db_consistent({'A': {1: 'a', 2: 'b'}, 'B': {1: 'c', 2: 'd'}, 'C': {1: 'c', 2: 'd'}}), db_consistent({'A': {1: 'a', 2: 'b'}, 'B': {2: 'c', 1: 'd'}})"
   ]
  }
 ],
 "metadata": {
  "kernelspec": {
   "display_name": "Python 3",
   "language": "python",
   "name": "python3"
  },
  "language_info": {
   "codemirror_mode": {
    "name": "ipython",
    "version": 3
   },
   "file_extension": ".py",
   "mimetype": "text/x-python",
   "name": "python",
   "nbconvert_exporter": "python",
   "pygments_lexer": "ipython3",
   "version": "3.8.3"
  }
 },
 "nbformat": 4,
 "nbformat_minor": 4
}
