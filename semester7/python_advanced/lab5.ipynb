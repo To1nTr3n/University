{
 "cells": [
  {
   "cell_type": "markdown",
   "metadata": {},
   "source": [
    "# TRẦN ĐỨC TOÀN"
   ]
  },
  {
   "cell_type": "markdown",
   "metadata": {},
   "source": [
    "### 1. In this exercise, you will implement class Country, which represents a\n",
    "country with a name, a population, and an area.\n",
    "- a. Here is a sample interaction from the Python shell\n",
    "\n",
    "This code cannot be executed yet because class Country does not exist.\n",
    "Define Country with a constructor (method __init__) that has four\n",
    "parameters:a country, its name, its population, and its area.\n",
    "- b. Consider this code:\n",
    "\n",
    "In class Country, define a method named is_larger that takes two Country\n",
    "objects and returns True if and only if the first has a larger area than the\n",
    "second.\n",
    "\n",
    "- c. Consider this code:\n",
    "\n",
    "In class Country, define a method named population_density that returns\n",
    "the population density of the country (people per square kilometer).\n",
    "- d. Consider this code:\n",
    "\n",
    "United States of America has a population of 313914040 and is 9826675\n",
    "square km.\n",
    "In class Country, define a method named __str__ that returns a string\n",
    "representation of the country in the format shown here.\n",
    "After you have written __str__, this session shows that a __repr__ method\n",
    "would be useful:\n"
   ]
  },
  {
   "cell_type": "code",
   "execution_count": 9,
   "metadata": {},
   "outputs": [
    {
     "name": "stdout",
     "output_type": "stream",
     "text": [
      "Canada\n",
      "34482779\n",
      "9984670\n"
     ]
    }
   ],
   "source": [
    "# a\n",
    "class Country:\n",
    "    def __init__(self, name, population, area):\n",
    "        self.name = name\n",
    "        self.population = population\n",
    "        self.area = area\n",
    "        \n"
   ]
  },
  {
   "cell_type": "code",
   "execution_count": 14,
   "metadata": {},
   "outputs": [],
   "source": [
    "#b\n",
    "class Country:\n",
    "    #a\n",
    "    def __init__(self, name, population, area):\n",
    "        self.name = name\n",
    "        self.population = population\n",
    "        self.area = area\n",
    "        \n",
    "    #b\n",
    "    def is_larger(self, other):\n",
    "        return self.area > other.area\n",
    "    \n",
    "    #c\n",
    "    def population_density(self):\n",
    "        return self.population/self.area\n",
    "    \n",
    "    #d\n",
    "    def __str__(self):\n",
    "        return f\"{self.name} has a population of {self.population} and is {self.area} square km.\"\n",
    "        \n",
    "    #e\n",
    "    def __repr__(self):\n",
    "        return f\"Country('{ self.name}', {self.population}, {self.area})\"\n"
   ]
  },
  {
   "cell_type": "code",
   "execution_count": 15,
   "metadata": {},
   "outputs": [
    {
     "name": "stdout",
     "output_type": "stream",
     "text": [
      "Canada\n",
      "34482779\n",
      "9984670\n"
     ]
    }
   ],
   "source": [
    "#test a\n",
    "canada = Country('Canada', 34482779, 9984670)\n",
    "print(canada.name)\n",
    "print(canada.population)\n",
    "print(canada.area)"
   ]
  },
  {
   "cell_type": "code",
   "execution_count": 16,
   "metadata": {},
   "outputs": [
    {
     "name": "stdout",
     "output_type": "stream",
     "text": [
      "True\n",
      "False\n"
     ]
    }
   ],
   "source": [
    "#test b\n",
    "canada = Country('Canada', 34482779, 9984670)\n",
    "usa = Country('United States of America', 313914040, 9826675)\n",
    "print(canada.is_larger(usa))\n",
    "print(usa.is_larger(canada))"
   ]
  },
  {
   "cell_type": "code",
   "execution_count": 17,
   "metadata": {},
   "outputs": [
    {
     "data": {
      "text/plain": [
       "3.4535722262227995"
      ]
     },
     "execution_count": 17,
     "metadata": {},
     "output_type": "execute_result"
    }
   ],
   "source": [
    "#test c\n",
    "canada = Country('Canada', 34482779, 9984670)\n",
    "canada.population_density()"
   ]
  },
  {
   "cell_type": "code",
   "execution_count": 19,
   "metadata": {},
   "outputs": [
    {
     "name": "stdout",
     "output_type": "stream",
     "text": [
      "United States of America has a population of 313914040 and is 9826675 square km.\n"
     ]
    }
   ],
   "source": [
    "#test d\n",
    "usa = Country('United States of America', 313914040, 9826675)\n",
    "print(usa)"
   ]
  },
  {
   "cell_type": "code",
   "execution_count": 20,
   "metadata": {},
   "outputs": [
    {
     "name": "stdout",
     "output_type": "stream",
     "text": [
      "Canada has a population of 34482779 and is 9984670 square km.\n",
      "[Country('Canada', 34482779, 9984670)]\n"
     ]
    }
   ],
   "source": [
    "#test e\n",
    "canada = Country('Canada', 34482779, 9984670)\n",
    "print(canada)\n",
    "Country('Canada', 34482779, 9984670)\n",
    "print([canada])"
   ]
  },
  {
   "cell_type": "markdown",
   "metadata": {},
   "source": [
    "## Câu 2"
   ]
  },
  {
   "cell_type": "code",
   "execution_count": 21,
   "metadata": {},
   "outputs": [],
   "source": [
    "class Continent:\n",
    "    #a\n",
    "    def __init__(self, name, countries):\n",
    "        self.name = name\n",
    "        self.countries = countries\n",
    "        \n",
    "    #b\n",
    "    def total_population(self):\n",
    "        total = 0\n",
    "        for country in self.countries:\n",
    "            total = total + country.population\n",
    "        return total\n",
    "    \n",
    "    #c.\n",
    "    def __str__(self):\n",
    "        res = self.name\n",
    "        for country in self.countries:\n",
    "            res = res + '\\n' + str(country)\n",
    "        return res"
   ]
  },
  {
   "cell_type": "code",
   "execution_count": 23,
   "metadata": {},
   "outputs": [
    {
     "name": "stdout",
     "output_type": "stream",
     "text": [
      "North America\n",
      "Canada has a population of 34482779 and is 9984670 square km.\n",
      "United States of America has a population of 313914040 and is 9826675 square km.\n",
      "Mexico has a population of 112336538 and is 1943950 square km.\n"
     ]
    }
   ],
   "source": [
    "# test a\n",
    "canada = Country('Canada', 34482779, 9984670)\n",
    "usa = Country('United States of America', 313914040, 9826675)\n",
    "mexico = Country('Mexico', 112336538, 1943950)\n",
    "countries = [canada, usa, mexico]\n",
    "north_america = Continent('North America', countries)\n",
    "print(north_america.name)\n",
    "\n",
    "for country in north_america.countries:\n",
    "    print(country)"
   ]
  },
  {
   "cell_type": "code",
   "execution_count": 24,
   "metadata": {},
   "outputs": [
    {
     "data": {
      "text/plain": [
       "460733357"
      ]
     },
     "execution_count": 24,
     "metadata": {},
     "output_type": "execute_result"
    }
   ],
   "source": [
    "north_america.total_population()"
   ]
  },
  {
   "cell_type": "code",
   "execution_count": 25,
   "metadata": {},
   "outputs": [
    {
     "name": "stdout",
     "output_type": "stream",
     "text": [
      "North America\n",
      "Canada has a population of 34482779 and is 9984670 square km.\n",
      "United States of America has a population of 313914040 and is 9826675 square km.\n",
      "Mexico has a population of 112336538 and is 1943950 square km.\n"
     ]
    }
   ],
   "source": [
    "print(north_america)"
   ]
  },
  {
   "cell_type": "markdown",
   "metadata": {},
   "source": [
    "## Câu 3"
   ]
  },
  {
   "cell_type": "code",
   "execution_count": 142,
   "metadata": {},
   "outputs": [],
   "source": [
    "class Student:\n",
    "    def __init__(self,member_string,student_number,courses_taken, courses_taking):\n",
    "        self.member_string = member_string\n",
    "        self.student_number = student_number\n",
    "        self.courses_taken = courses_taken\n",
    "        self.courses_taking = courses_taking\n",
    "        \n",
    "   # a\n",
    "    def __str__(self):\n",
    "        return '''{} {} Previous courses: {} Current courses:{}'''.format(self.member_string,self.student_number,''.join(self.courses_taken),''.join(self.courses_taking))\n",
    "\n",
    "   "
   ]
  },
  {
   "cell_type": "code",
   "execution_count": 143,
   "metadata": {},
   "outputs": [
    {
     "data": {
      "text/plain": [
       "'Tran Toan Previous courses: toan.187it23746@vanlanuni.vn Current courses:1234'"
      ]
     },
     "execution_count": 143,
     "metadata": {},
     "output_type": "execute_result"
    }
   ],
   "source": [
    "student = Student('Tran', 'Toan', 'toan.187it23746@vanlanuni.vn','1234')\n",
    "student.__str__()"
   ]
  },
  {
   "cell_type": "code",
   "execution_count": 112,
   "metadata": {},
   "outputs": [],
   "source": [
    " # b\n",
    "    # Member repr:\n",
    "class Member:\n",
    "    def __init__(self,name,address, email):\n",
    "        self.name = name\n",
    "        self.address = address\n",
    "        self.email = email\n",
    "        \n",
    "    def __repr__(self):\n",
    "        return f\"Member('{self.name}', '{self.address}', '{self.email}')\"\n",
    "    \n",
    "    \n",
    "class Faculty:\n",
    "    def __init__(self,name,address, email,faculty_number,courses_teaching):\n",
    "        self.name = name\n",
    "        self.address = address\n",
    "        self.email = email    \n",
    "        self.faculty_number = faculty_number\n",
    "        self.courses_teaching = courses_teaching\n",
    "          \n",
    "    # Faculty repr:\n",
    "    def __repr__(self):\n",
    "        return \"Faculty('{}', '{}', '{}', {}, [{}])\".format(self.name, self.address, self.email, self.faculty_number,','.join(self.courses_teaching))\n",
    "\n",
    "class Student:\n",
    "    def __init__(self,name,address, email,student_number,courses_taken,courses_taking):\n",
    "        self.name = name\n",
    "        self.address = address\n",
    "        self.email = email    \n",
    "        self.student_number = student_number\n",
    "        self.courses_taken = courses_taken  \n",
    "        self.courses_taking = courses_taking  \n",
    "        \n",
    "    # Student repr:\n",
    "    def __repr__(self):\n",
    "        return \"Student('{}', '{}', '{}', {}, [{}], [{}])\".format(self.name, self.address, self.email, self.student_number,','.join(self.courses_taken), ','.join(self.courses_taking))"
   ]
  },
  {
   "cell_type": "code",
   "execution_count": 113,
   "metadata": {},
   "outputs": [
    {
     "data": {
      "text/plain": [
       "\"Member('Tran', 'Toan', 'toan.187it23746@vanlanuni.vn')\""
      ]
     },
     "execution_count": 113,
     "metadata": {},
     "output_type": "execute_result"
    }
   ],
   "source": [
    "Member = Member('Tran', 'Toan', 'toan.187it23746@vanlanuni.vn')\n",
    "Member.__repr__()"
   ]
  },
  {
   "cell_type": "code",
   "execution_count": 114,
   "metadata": {},
   "outputs": [
    {
     "data": {
      "text/plain": [
       "\"Faculty('CNTT', 'VanLang', 'k.cntt@vanlanuni.vn', 1234, [CNTT,KTPM])\""
      ]
     },
     "execution_count": 114,
     "metadata": {},
     "output_type": "execute_result"
    }
   ],
   "source": [
    "faculty = Faculty('CNTT', 'VanLang', 'k.cntt@vanlanuni.vn','1234',['CNTT','KTPM'])\n",
    "faculty.__repr__()"
   ]
  },
  {
   "cell_type": "code",
   "execution_count": 116,
   "metadata": {},
   "outputs": [
    {
     "data": {
      "text/plain": [
       "\"Student('Tran', 'Toan', 'toan.187it23746@vanlanuni.vn', 1234, [], [])\""
      ]
     },
     "execution_count": 116,
     "metadata": {},
     "output_type": "execute_result"
    }
   ],
   "source": [
    "student = Student('Tran', 'Toan', 'toan.187it23746@vanlanuni.vn','1234',[],[])\n",
    "student.__repr__()"
   ]
  },
  {
   "cell_type": "markdown",
   "metadata": {},
   "source": [
    "## 4Write a class called Nematode to keep track of information about C. elegans, \n",
    "including a variable for the body length (in millimeters; they are about1 mm in length), \n",
    "\n",
    "gender (either hermaphrodite or male), \n",
    "\n",
    "and age (in days).\n",
    "\n",
    "Include methods __init__, __repr__, and __str__.\n"
   ]
  },
  {
   "cell_type": "code",
   "execution_count": null,
   "metadata": {},
   "outputs": [],
   "source": [
    "class Nematode:\n",
    "    \"\"\" A microscopic worm. \"\"\"\n",
    "    def __init__(self, length, gender, age):\n",
    "        self.length = length\n",
    "        self.gender = gender\n",
    "        self.age = age\n",
    "        \n",
    "    def __str__(self):\n",
    "        return 'Nematode: {}mm long, gender is {}, {} days old'.format(self.length, self.gender, self.age)\n",
    "    \n",
    "    def __repr__(self):\n",
    "        return \"Nematode({}, '{}', {})\".format(self.length, self.gender, self.age)"
   ]
  },
  {
   "cell_type": "markdown",
   "metadata": {},
   "source": [
    "## 5. Consider this code:\n",
    "\n",
    "In this exercise, you will write two classes, Point and LineSegment, so that\n",
    "you can run this code and get the same results.\n",
    "- a. Write a Point class with an __init__ method that takes two numbers as\n",
    "parameters.\n",
    "- b. In the same file, write a LineSegment class whose constructor takes two\n",
    "Points as parameters. The first Point should be the start of the segment.\n",
    "- c. Write a slope method in the class LineSegment that computes the slope\n",
    "of the segment. (Hint: The slope of a line is rise over run.)\n",
    "- d. Write a length method in class LineSegment that computes the length of\n",
    "the segment. (Hint: Use x ** n to raise x to the nth power. To compute\n",
    "the square root, raise a number to the (1/2) power or use math.sqrt.)"
   ]
  },
  {
   "cell_type": "code",
   "execution_count": 80,
   "metadata": {},
   "outputs": [],
   "source": [
    "#a\n",
    "class Point:\n",
    "    def __init__(self, a, b):\n",
    "        self.a = a\n",
    "        self.b = b"
   ]
  },
  {
   "cell_type": "code",
   "execution_count": 85,
   "metadata": {},
   "outputs": [],
   "source": [
    "import math\n",
    "class LineSegment:\n",
    "    \n",
    "# b   \n",
    "    def __init__(self, point1, point2):\n",
    "        self.startpoint = point1\n",
    "        self.endpoint = point2\n",
    "        \n",
    "# c.\n",
    "    def slope(self):\n",
    "        return (self.endpoint.b - self.startpoint.b)/(self.endpoint.a - self.startpoint.a)\n",
    "    \n",
    "#d.\n",
    "    def length(self):\n",
    "        return math.sqrt((self.endpoint.a - self.startpoint.a) ** 2 + (self.endpoint.b - self.startpoint.b) ** 2)"
   ]
  },
  {
   "cell_type": "code",
   "execution_count": 86,
   "metadata": {},
   "outputs": [
    {
     "name": "stdout",
     "output_type": "stream",
     "text": [
      "0.5\n",
      "2.23606797749979\n"
     ]
    }
   ],
   "source": [
    "segment = LineSegment(Point(1, 1), Point(3, 2))\n",
    "print(segment.slope())\n",
    "print(segment.length())"
   ]
  },
  {
   "cell_type": "code",
   "execution_count": null,
   "metadata": {},
   "outputs": [],
   "source": []
  },
  {
   "cell_type": "code",
   "execution_count": null,
   "metadata": {},
   "outputs": [],
   "source": []
  },
  {
   "cell_type": "code",
   "execution_count": null,
   "metadata": {},
   "outputs": [],
   "source": []
  },
  {
   "cell_type": "code",
   "execution_count": null,
   "metadata": {},
   "outputs": [],
   "source": []
  }
 ],
 "metadata": {
  "kernelspec": {
   "display_name": "Python 3",
   "language": "python",
   "name": "python3"
  },
  "language_info": {
   "codemirror_mode": {
    "name": "ipython",
    "version": 3
   },
   "file_extension": ".py",
   "mimetype": "text/x-python",
   "name": "python",
   "nbconvert_exporter": "python",
   "pygments_lexer": "ipython3",
   "version": "3.8.3"
  }
 },
 "nbformat": 4,
 "nbformat_minor": 4
}
