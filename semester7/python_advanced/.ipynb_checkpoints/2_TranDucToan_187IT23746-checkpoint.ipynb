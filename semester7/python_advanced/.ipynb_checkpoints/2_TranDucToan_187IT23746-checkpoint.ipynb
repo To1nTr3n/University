{
 "cells": [
  {
   "cell_type": "markdown",
   "metadata": {},
   "source": [
    "# TRAN DUC TOAN"
   ]
  },
  {
   "cell_type": "markdown",
   "metadata": {},
   "source": [
    "## LAB 2: Lưu trữ các bộ dữ liệu với List"
   ]
  },
  {
   "cell_type": "code",
   "execution_count": 16,
   "metadata": {},
   "outputs": [],
   "source": [
    " kingdoms = ['Bacteria', 'Protozoa', 'Chromista','Plantae', 'Fungi','Animalia']"
   ]
  },
  {
   "cell_type": "code",
   "execution_count": 17,
   "metadata": {},
   "outputs": [
    {
     "name": "stdout",
     "output_type": "stream",
     "text": [
      "a:  Bacteria\n",
      "b:  Animalia\n",
      "c:  ['Bacteria', 'Protozoa', 'Chromista', 'Plantae', 'Fungi']\n",
      "d:  ['Chromista', 'Plantae', 'Fungi']\n",
      "e:  ['Fungi', 'Animalia']\n",
      "f:  []\n"
     ]
    }
   ],
   "source": [
    "#bài 1\n",
    "# a. The first item of kingdoms\n",
    "print(\"a: \", kingdoms[0])\n",
    "# b. The last item of kingdoms\n",
    "print(\"b: \", kingdoms[5])\n",
    "# c. The list ['Bacteria', 'Protozoa', 'Chromista']\n",
    "print(\"c: \", kingdoms[:5])\n",
    "# d. The list ['Chromista', 'Plantae', 'Fungi']\n",
    "print(\"d: \", kingdoms[2:5])\n",
    "# e. The list ['Fungi', 'Animalia']\n",
    "print(\"e: \", kingdoms[4:6])\n",
    "# f. The empty list\n",
    "print(\"f: \", kingdoms[1:0])"
   ]
  },
  {
   "cell_type": "code",
   "execution_count": 26,
   "metadata": {},
   "outputs": [
    {
     "name": "stdout",
     "output_type": "stream",
     "text": [
      "a:  Bacteria\n",
      "b:  Animalia\n",
      "c:  ['Bacteria', 'Protozoa', 'Chromista']\n",
      "d:  ['Chromista', 'Plantae', 'Fungi']\n",
      "e:  ['Fungi', 'Animalia']\n",
      "f:  []\n"
     ]
    }
   ],
   "source": [
    "# 2. Repeat the previous exercise using negative indices.\n",
    "# a. The first item of kingdoms\n",
    "print(\"a: \", kingdoms[-6])\n",
    "# b. The last item of kingdoms\n",
    "print(\"b: \", kingdoms[-1])\n",
    "# c. The list ['Bacteria', 'Protozoa', 'Chromista']\n",
    "print(\"c: \", kingdoms[-6:-3])\n",
    "# d. The list ['Chromista', 'Plantae', 'Fungi']\n",
    "print(\"d: \", kingdoms[-4:-1])\n",
    "# e. The list ['Fungi', 'Animalia']\n",
    "print(\"e: \", kingdoms[-2:])\n",
    "# f. The empty list\n",
    "print(\"f: \", kingdoms[-1:0])\n"
   ]
  },
  {
   "cell_type": "code",
   "execution_count": 27,
   "metadata": {},
   "outputs": [],
   "source": [
    "# 3. Variable appointments refers to the list ['9:00', '10:30', '14:00', '15:00',\n",
    "# '15:30']. An appointment is scheduled for 16:30, so '16:30' needs to be added\n",
    "# to the list.\n",
    "# a. Using list method append, add '16:30' to the end of the list that\n",
    "# appointments refers to.\n",
    "# b. Instead of using append, use the + operator to add '16:30' to the end of\n",
    "# the list that appointments refers to.\n",
    "# c. You used two approaches to add '16:30' to the list. Which approach\n",
    "# modified the list and which approach created a new list?"
   ]
  },
  {
   "cell_type": "code",
   "execution_count": 41,
   "metadata": {},
   "outputs": [
    {
     "data": {
      "text/plain": [
       "2099847378752"
      ]
     },
     "execution_count": 41,
     "metadata": {},
     "output_type": "execute_result"
    }
   ],
   "source": [
    "hours =  ['9:00', '10:30', '14:00', '15:00','15:30']\n",
    "id(hours)"
   ]
  },
  {
   "cell_type": "code",
   "execution_count": 42,
   "metadata": {},
   "outputs": [
    {
     "data": {
      "text/plain": [
       "2099847378752"
      ]
     },
     "execution_count": 42,
     "metadata": {},
     "output_type": "execute_result"
    }
   ],
   "source": [
    "#a\n",
    "hours.append('16:30')\n",
    "id(hours)"
   ]
  },
  {
   "cell_type": "code",
   "execution_count": 44,
   "metadata": {},
   "outputs": [
    {
     "data": {
      "text/plain": [
       "['9:00', '10:30', '14:00', '15:00', '15:30', '16:30', '16:30']"
      ]
     },
     "execution_count": 44,
     "metadata": {},
     "output_type": "execute_result"
    }
   ],
   "source": [
    "#b \n",
    "hours + ['16:30']"
   ]
  },
  {
   "cell_type": "code",
   "execution_count": 45,
   "metadata": {},
   "outputs": [
    {
     "name": "stdout",
     "output_type": "stream",
     "text": [
      "\n",
      "append didn't created a new list\n",
      " use the + operator created a new list\n"
     ]
    }
   ],
   "source": [
    "# c \n",
    "print(\"\"\"\n",
    "append didn't created a new list\n",
    " use the + operator created a new list\"\"\")"
   ]
  },
  {
   "cell_type": "code",
   "execution_count": 46,
   "metadata": {},
   "outputs": [],
   "source": [
    "# 4 Variable ids refers to the list [4353, 2314, 2956, 3382, 9362, 3900]. Using\n",
    "# list methods, do the following:\n",
    "# a. Remove 3382 from the list.\n",
    "# b. Get the index of 9362.\n",
    "# c. Insert 4499 in the list after 9362.\n",
    "# d. Extend the list by adding [5566, 1830] to it.\n",
    "# e. Reverse the list.\n",
    "# f. Sort the list."
   ]
  },
  {
   "cell_type": "code",
   "execution_count": 55,
   "metadata": {},
   "outputs": [],
   "source": [
    "#a\n",
    "ids = [4353, 2314, 2956, 3382, 9362, 3900]"
   ]
  },
  {
   "cell_type": "code",
   "execution_count": 56,
   "metadata": {},
   "outputs": [
    {
     "data": {
      "text/plain": [
       "[4353, 2314, 2956, 9362, 3900]"
      ]
     },
     "execution_count": 56,
     "metadata": {},
     "output_type": "execute_result"
    }
   ],
   "source": [
    "#b\n",
    "ids.remove(3382)\n",
    "ids"
   ]
  },
  {
   "cell_type": "code",
   "execution_count": 57,
   "metadata": {},
   "outputs": [
    {
     "data": {
      "text/plain": [
       "3"
      ]
     },
     "execution_count": 57,
     "metadata": {},
     "output_type": "execute_result"
    }
   ],
   "source": [
    "#c\n",
    "ids.index(9362)"
   ]
  },
  {
   "cell_type": "code",
   "execution_count": 58,
   "metadata": {},
   "outputs": [
    {
     "data": {
      "text/plain": [
       "[4353, 2314, 2956, 9362, 4499, 3900]"
      ]
     },
     "execution_count": 58,
     "metadata": {},
     "output_type": "execute_result"
    }
   ],
   "source": [
    "#d\n",
    "ids.insert(-1, 4499)\n",
    "ids"
   ]
  },
  {
   "cell_type": "code",
   "execution_count": 59,
   "metadata": {},
   "outputs": [
    {
     "data": {
      "text/plain": [
       "[4353, 2314, 2956, 9362, 4499, 3900, 5566, 1830]"
      ]
     },
     "execution_count": 59,
     "metadata": {},
     "output_type": "execute_result"
    }
   ],
   "source": [
    "#e\n",
    "ids.extend([5566,1830])\n",
    "ids"
   ]
  },
  {
   "cell_type": "code",
   "execution_count": 60,
   "metadata": {},
   "outputs": [
    {
     "data": {
      "text/plain": [
       "[1830, 5566, 3900, 4499, 9362, 2956, 2314, 4353]"
      ]
     },
     "execution_count": 60,
     "metadata": {},
     "output_type": "execute_result"
    }
   ],
   "source": [
    "ids.reverse()\n",
    "ids"
   ]
  },
  {
   "cell_type": "code",
   "execution_count": 63,
   "metadata": {},
   "outputs": [
    {
     "data": {
      "text/plain": [
       "[1830, 2314, 2956, 3900, 4353, 4499, 5566, 9362]"
      ]
     },
     "execution_count": 63,
     "metadata": {},
     "output_type": "execute_result"
    }
   ],
   "source": [
    "ids.sort()\n",
    "ids"
   ]
  },
  {
   "cell_type": "code",
   "execution_count": 64,
   "metadata": {},
   "outputs": [],
   "source": [
    "# 5. In this exercise, you’ll create a list and then answer questions about that\n",
    "# list.\n",
    "# a. Assign a list that contains the atomic numbers of the six alkaline earth\n",
    "# metals—beryllium (4), magnesium (12), calcium (20), strontium (38),\n",
    "# barium (56), and radium (88)—to a variable called alkaline_earth_metals.\n",
    "# b. Which index contains radium’s atomic number? Write the answer in two\n",
    "# ways, one using a positive index and one using a negative index.\n",
    "# c. Which function tells you how many items there are in\n",
    "# alkaline_earth_metals?\n",
    "# d. Write code that returns the highest atomic number in\n",
    "# alkaline_earth_metals."
   ]
  },
  {
   "cell_type": "code",
   "execution_count": 66,
   "metadata": {},
   "outputs": [],
   "source": [
    "alkaline_earth_metals = [4,12,20,38,56,88]"
   ]
  },
  {
   "cell_type": "code",
   "execution_count": 67,
   "metadata": {},
   "outputs": [
    {
     "data": {
      "text/plain": [
       "(88, 88)"
      ]
     },
     "execution_count": 67,
     "metadata": {},
     "output_type": "execute_result"
    }
   ],
   "source": [
    "#b\n",
    "alkaline_earth_metals[5],alkaline_earth_metals[-1]"
   ]
  },
  {
   "cell_type": "code",
   "execution_count": 68,
   "metadata": {},
   "outputs": [
    {
     "data": {
      "text/plain": [
       "6"
      ]
     },
     "execution_count": 68,
     "metadata": {},
     "output_type": "execute_result"
    }
   ],
   "source": [
    "#c\n",
    "len(alkaline_earth_metals)"
   ]
  },
  {
   "cell_type": "code",
   "execution_count": 69,
   "metadata": {},
   "outputs": [
    {
     "data": {
      "text/plain": [
       "88"
      ]
     },
     "execution_count": 69,
     "metadata": {},
     "output_type": "execute_result"
    }
   ],
   "source": [
    "#d\n",
    "max(alkaline_earth_metals)"
   ]
  },
  {
   "cell_type": "code",
   "execution_count": 71,
   "metadata": {},
   "outputs": [],
   "source": [
    "# 6. In this exercise, you’ll create a list and then answer questions about that\n",
    "# list.\n",
    "# a. Create a list of temperatures in degrees Celsius with the values \n",
    "# 25.2,16.8, 31.4, 23.9, 28, 22.5, and 19.6, and assign it to a variable called\n",
    "# temps.\n",
    "# b. Using one of the list methods, sort temps in ascending order.\n",
    "# c. Using slicing, create two new lists, cool_temps and warm_temps, which\n",
    "# contain the temperatures below and above 20 degrees Celsius, respectively.\n",
    "# d. Using list arithmetic, recombine cool_temps and warm_temps into a new\n",
    "# list called temps_in_celsius -->"
   ]
  },
  {
   "cell_type": "code",
   "execution_count": 72,
   "metadata": {},
   "outputs": [],
   "source": [
    "temps = [25.2,16.8, 31.4, 23.9, 28, 22.5, 19.6]"
   ]
  },
  {
   "cell_type": "code",
   "execution_count": 74,
   "metadata": {},
   "outputs": [
    {
     "data": {
      "text/plain": [
       "[16.8, 19.6, 22.5, 23.9, 25.2, 28, 31.4]"
      ]
     },
     "execution_count": 74,
     "metadata": {},
     "output_type": "execute_result"
    }
   ],
   "source": [
    "#b\n",
    "temps.sort()\n",
    "temps"
   ]
  },
  {
   "cell_type": "code",
   "execution_count": 77,
   "metadata": {},
   "outputs": [
    {
     "data": {
      "text/plain": [
       "([16.8, 19.6], [22.5, 23.9, 25.2, 28, 31.4])"
      ]
     },
     "execution_count": 77,
     "metadata": {},
     "output_type": "execute_result"
    }
   ],
   "source": [
    "#c\n",
    "cool_temps = temps[:2]\n",
    "warm_temps = temps[2:]\n",
    "cool_temps, warm_temps"
   ]
  },
  {
   "cell_type": "code",
   "execution_count": 78,
   "metadata": {},
   "outputs": [
    {
     "data": {
      "text/plain": [
       "[16.8, 19.6, 22.5, 23.9, 25.2, 28, 31.4]"
      ]
     },
     "execution_count": 78,
     "metadata": {},
     "output_type": "execute_result"
    }
   ],
   "source": [
    "#d\n",
    "temps_in_celsius = cool_temps +warm_temps\n",
    "temps_in_celsius"
   ]
  },
  {
   "cell_type": "markdown",
   "metadata": {},
   "source": [
    "### 7\n"
   ]
  },
  {
   "cell_type": "code",
   "execution_count": 102,
   "metadata": {},
   "outputs": [],
   "source": [
    "def same_first_last(L):\n",
    "    \"\"\" (list) -> bool\n",
    "    Precondition: len(L) >= 2\n",
    "    Return True if and only if first item of the list is the same as\n",
    "    the last.\n",
    "    >>> same_first_last([3, 4, 2, 8, 3])\n",
    "    True\n",
    "    >>> same_first_last(['apple', 'banana', 'pear'])\n",
    "    >>> same_first_last([4.0, 4.5])\n",
    "    \"\"\"\n",
    "    if L[0] == L[-1]:return True"
   ]
  },
  {
   "cell_type": "code",
   "execution_count": 106,
   "metadata": {},
   "outputs": [
    {
     "data": {
      "text/plain": [
       "True"
      ]
     },
     "execution_count": 106,
     "metadata": {},
     "output_type": "execute_result"
    }
   ],
   "source": [
    "same_first_last([3, 4, 2, 8, 3])"
   ]
  },
  {
   "cell_type": "code",
   "execution_count": 104,
   "metadata": {},
   "outputs": [],
   "source": [
    "same_first_last(['apple', 'banana', 'pear'])"
   ]
  },
  {
   "cell_type": "code",
   "execution_count": 105,
   "metadata": {},
   "outputs": [],
   "source": [
    "same_first_last([4.0, 4.5])"
   ]
  },
  {
   "cell_type": "markdown",
   "metadata": {},
   "source": [
    "# 8"
   ]
  },
  {
   "cell_type": "code",
   "execution_count": 108,
   "metadata": {},
   "outputs": [],
   "source": [
    "def is_longer(L1: list, L2: list) -> bool:\n",
    "    \"\"\"Return True if and only if the length of L1 is longer than the length\n",
    "    of L2.\n",
    "    >>> is_longer([1, 2, 3], [4, 5])\n",
    "    True\n",
    "    >>> is_longer(['abcdef'], ['ab', 'cd', 'ef'])\n",
    "    >>> is_longer(['a', 'b', 'c'], [1, 2, 3]\n",
    "    \"\"\"\n",
    "    if len(L1) > len(L2): return True"
   ]
  },
  {
   "cell_type": "code",
   "execution_count": 109,
   "metadata": {},
   "outputs": [
    {
     "data": {
      "text/plain": [
       "True"
      ]
     },
     "execution_count": 109,
     "metadata": {},
     "output_type": "execute_result"
    }
   ],
   "source": [
    "is_longer([1, 2, 3], [4, 5])"
   ]
  },
  {
   "cell_type": "code",
   "execution_count": 110,
   "metadata": {},
   "outputs": [],
   "source": [
    "is_longer(['abcdef'], ['ab', 'cd', 'ef'])"
   ]
  },
  {
   "cell_type": "code",
   "execution_count": 111,
   "metadata": {},
   "outputs": [],
   "source": [
    "is_longer(['a', 'b', 'c'], [1, 2, 3])"
   ]
  },
  {
   "cell_type": "code",
   "execution_count": 112,
   "metadata": {},
   "outputs": [],
   "source": [
    "# 9. Draw a memory model showing the effect of the following statements:\n",
    "# values = [0, 1, 2]\n",
    "# values[1] = values"
   ]
  },
  {
   "cell_type": "code",
   "execution_count": 113,
   "metadata": {},
   "outputs": [],
   "source": [
    "values = [0, 1, 2]\n",
    "values[1] = values"
   ]
  },
  {
   "cell_type": "code",
   "execution_count": 114,
   "metadata": {},
   "outputs": [
    {
     "data": {
      "text/plain": [
       "(2099880823424, 2099880823424)"
      ]
     },
     "execution_count": 114,
     "metadata": {},
     "output_type": "execute_result"
    }
   ],
   "source": [
    "id(values), id(values[1])"
   ]
  },
  {
   "cell_type": "markdown",
   "metadata": {},
   "source": [
    "# Bài tập chương 9"
   ]
  },
  {
   "cell_type": "code",
   "execution_count": null,
   "metadata": {},
   "outputs": [],
   "source": [
    "# 1. Write a for loop to print all the values in the celegans_phenotypes list, one\n",
    "# per line. celegans_phenotypes refers to ['Emb','Him', 'Unc', 'Lon', 'Dpy',\n",
    "# 'Sma']."
   ]
  },
  {
   "cell_type": "code",
   "execution_count": 117,
   "metadata": {},
   "outputs": [
    {
     "name": "stdout",
     "output_type": "stream",
     "text": [
      "Emb\n",
      "Him\n",
      "Unc\n",
      "Lon\n",
      "Dpy\n",
      "Sma\n"
     ]
    }
   ],
   "source": [
    "celegans_phenotypes =  ['Emb','Him', 'Unc', 'Lon', 'Dpy','Sma']\n",
    "for i in celegans_phenotypes:\n",
    "    print(i)"
   ]
  },
  {
   "cell_type": "code",
   "execution_count": null,
   "metadata": {},
   "outputs": [],
   "source": [
    "# 2. Write a for loop to print all the values in the half_lives list, all on a single\n",
    "# line. half_lives refers to [87.74, 24110.0,\n",
    "# 6537.0, 14.4, 376000.0]."
   ]
  },
  {
   "cell_type": "code",
   "execution_count": 118,
   "metadata": {},
   "outputs": [
    {
     "name": "stdout",
     "output_type": "stream",
     "text": [
      "87.74 24110.0 6537.0 14.4 376000.0 "
     ]
    }
   ],
   "source": [
    "half_lives = [87.74, 24110.0,6537.0, 14.4, 376000.0]\n",
    "for i in half_lives:\n",
    "    print(i, end =\" \")"
   ]
  },
  {
   "cell_type": "code",
   "execution_count": 120,
   "metadata": {},
   "outputs": [
    {
     "data": {
      "text/plain": [
       "[6, 5, 8, 4, 3, 4, 3, 7, 5, 3, 2, 8, 2, 4]"
      ]
     },
     "execution_count": 120,
     "metadata": {},
     "output_type": "execute_result"
    }
   ],
   "source": [
    "# 3. Write a for loop to add 1 to all the values from whales, and store the\n",
    "# converted values in a new list called more_whales. The whales list shouldn’t\n",
    "# be modified. whales refers to [5, 4, 7, 3, 2, 3, 2, 6, 4, 2, 1, 7, 1, 3].\n",
    "whales =[5, 4, 7, 3, 2, 3, 2, 6, 4, 2, 1, 7, 1, 3]\n",
    "more_whales= []\n",
    "for i in  whales :\n",
    "    more_whales.append(i + 1)\n",
    "more_whales "
   ]
  },
  {
   "cell_type": "code",
   "execution_count": 121,
   "metadata": {},
   "outputs": [],
   "source": [
    "# 4. In this exercise, you’ll create a nested list and then write code that performs\n",
    "# operations on that list.\n",
    "# a. Create a nested list where each element of the outer list contains the\n",
    "# atomic number and atomic weight for an alkaline earth metal. The\n",
    "# values are beryllium (4 and 9.012), magnesium (12 and 24.305), calcium (20\n",
    "# and 40.078), strontium (38 and 87.62), barium (56 and\n",
    "# 137.327), and radium (88 and 226). Assign the list to variable\n",
    "# alkaline_earth_metals.\n",
    "# b. Write a for loop to print all the values in alkaline_earth_metals, with the\n",
    "# atomic number and atomic weight for each alkaline earth metal on a\n",
    "# different line.\n",
    "# c. Write a for loop to create a new list called number_and_weight that\n",
    "# contains the elements of alkaline_earth_metals in the same order but not\n",
    "# nested.\n"
   ]
  },
  {
   "cell_type": "code",
   "execution_count": 123,
   "metadata": {},
   "outputs": [
    {
     "name": "stdout",
     "output_type": "stream",
     "text": [
      "4 \n",
      " 9.012\n",
      "12 \n",
      " 24.305\n",
      "20 \n",
      " 40.078\n",
      "38 \n",
      " 87.62\n",
      "56 \n",
      " 137.327\n"
     ]
    }
   ],
   "source": [
    "#b\n",
    "lkaline_earth_metals = [[4, 9.012],[12, 24.305],[20, 40.078],[38 , 87.62],[56 ,137.327]]\n",
    "for i in lkaline_earth_metals:\n",
    "    print (i[0],\"\\n\",i[1])\n",
    "    "
   ]
  },
  {
   "cell_type": "code",
   "execution_count": 124,
   "metadata": {},
   "outputs": [
    {
     "data": {
      "text/plain": [
       "[4, 9.012, 12, 24.305, 20, 40.078, 38, 87.62, 56, 137.327]"
      ]
     },
     "execution_count": 124,
     "metadata": {},
     "output_type": "execute_result"
    }
   ],
   "source": [
    "number_and_weight=[]\n",
    "for i in lkaline_earth_metals:\n",
    "    number_and_weight.append(i[0])\n",
    "    number_and_weight.append(i[1])\n",
    "number_and_weight"
   ]
  },
  {
   "cell_type": "code",
   "execution_count": 193,
   "metadata": {},
   "outputs": [],
   "source": [
    "# 5. The following function doesn’t have a docstring, type annotations, or\n",
    "# comments. Write enough of all three to make it easy for another programmer\n",
    "# to understand what the function does and how, and then compare your\n",
    "# solution with those of at least two other people. How similar are they?\n",
    "# Why do they differ?\n",
    "def mystery_function(values):\n",
    "    result = []\n",
    "    for sublist in values:\n",
    "        result.append([sublist[0]])\n",
    "        for i in sublist[1:]:\n",
    "            result[-1].insert(0, i)\n",
    "    return result"
   ]
  },
  {
   "cell_type": "code",
   "execution_count": 194,
   "metadata": {},
   "outputs": [
    {
     "data": {
      "text/plain": [
       "[[3, 2, 1], [6, 5, 4]]"
      ]
     },
     "execution_count": 194,
     "metadata": {},
     "output_type": "execute_result"
    }
   ],
   "source": [
    "mystery_function([[1, 2, 3], [4, 5, 6]])"
   ]
  },
  {
   "cell_type": "code",
   "execution_count": null,
   "metadata": {},
   "outputs": [],
   "source": []
  }
 ],
 "metadata": {
  "kernelspec": {
   "display_name": "Python 3",
   "language": "python",
   "name": "python3"
  },
  "language_info": {
   "codemirror_mode": {
    "name": "ipython",
    "version": 3
   },
   "file_extension": ".py",
   "mimetype": "text/x-python",
   "name": "python",
   "nbconvert_exporter": "python",
   "pygments_lexer": "ipython3",
   "version": "3.8.3"
  }
 },
 "nbformat": 4,
 "nbformat_minor": 4
}
